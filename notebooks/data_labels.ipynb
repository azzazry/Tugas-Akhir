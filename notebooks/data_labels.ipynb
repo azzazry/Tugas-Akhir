{
 "cells": [
  {
   "cell_type": "markdown",
   "id": "24452b4d",
   "metadata": {},
   "source": [
    "## User Insiders"
   ]
  },
  {
   "cell_type": "code",
   "execution_count": null,
   "id": "ab600b2b",
   "metadata": {},
   "outputs": [
    {
     "data": {
      "text/html": [
       "<div>\n",
       "<style scoped>\n",
       "    .dataframe tbody tr th:only-of-type {\n",
       "        vertical-align: middle;\n",
       "    }\n",
       "\n",
       "    .dataframe tbody tr th {\n",
       "        vertical-align: top;\n",
       "    }\n",
       "\n",
       "    .dataframe thead th {\n",
       "        text-align: right;\n",
       "    }\n",
       "</style>\n",
       "<table border=\"1\" class=\"dataframe\">\n",
       "  <thead>\n",
       "    <tr style=\"text-align: right;\">\n",
       "      <th></th>\n",
       "      <th>scenario</th>\n",
       "      <th>user_id</th>\n",
       "      <th>start</th>\n",
       "      <th>end</th>\n",
       "    </tr>\n",
       "  </thead>\n",
       "  <tbody>\n",
       "    <tr>\n",
       "      <th>0</th>\n",
       "      <td>2</td>\n",
       "      <td>CMP2946</td>\n",
       "      <td>02/07/2011 12:28:06</td>\n",
       "      <td>03/04/2011 12:30:25</td>\n",
       "    </tr>\n",
       "    <tr>\n",
       "      <th>1</th>\n",
       "      <td>5</td>\n",
       "      <td>MBG3183</td>\n",
       "      <td>10/12/2010 13:21:59</td>\n",
       "      <td>10/12/2010 13:22:56</td>\n",
       "    </tr>\n",
       "  </tbody>\n",
       "</table>\n",
       "</div>"
      ],
      "text/plain": [
       "   scenario  user_id                start                  end\n",
       "0         2  CMP2946  02/07/2011 12:28:06  03/04/2011 12:30:25\n",
       "1         5  MBG3183  10/12/2010 13:21:59  10/12/2010 13:22:56"
      ]
     },
     "execution_count": 68,
     "metadata": {},
     "output_type": "execute_result"
    }
   ],
   "source": [
    "import pandas as pd\n",
    "\n",
    "df_insider = pd.read_csv('../data/labels/user_insiders.csv')\n",
    "df_insider.head()"
   ]
  },
  {
   "cell_type": "code",
   "execution_count": 69,
   "id": "72b6a9dd",
   "metadata": {},
   "outputs": [],
   "source": [
    "df_insider['start'] = pd.to_datetime(df_insider['start'])\n",
    "df_insider['end'] = pd.to_datetime(df_insider['end'])"
   ]
  },
  {
   "cell_type": "code",
   "execution_count": null,
   "id": "e4618b92",
   "metadata": {},
   "outputs": [
    {
     "name": "stdout",
     "output_type": "stream",
     "text": [
      "tanggal karyawan CMP2946 masuk: 2011-02-07 12:28:06\n",
      "tanggal karyawan CMP2946 keluar: 2011-03-04 12:30:25\n"
     ]
    }
   ],
   "source": [
    "print(f'tanggal karyawan CMP2946 masuk: {df_insider['start'][0]}')\n",
    "print(f'tanggal karyawan CMP2946 keluar: {df_insider['end'][0]}')"
   ]
  },
  {
   "cell_type": "code",
   "execution_count": 92,
   "id": "789d5dbf",
   "metadata": {},
   "outputs": [
    {
     "name": "stdout",
     "output_type": "stream",
     "text": [
      "tanggal karyawan MBG3183 masuk: 2010-10-12 13:21:59\n",
      "tanggal karyawan MBG3183 keluar: 2010-10-12 13:22:56\n"
     ]
    }
   ],
   "source": [
    "print(f'tanggal karyawan MBG3183 masuk: {df_insider['start'][1]}')\n",
    "print(f'tanggal karyawan MBG3183 keluar: {df_insider['end'][1]}')"
   ]
  },
  {
   "cell_type": "code",
   "execution_count": 71,
   "id": "d01d61f7",
   "metadata": {},
   "outputs": [],
   "source": [
    "df_insider.to_csv('../data/labels/user_insiders.csv', index=False)"
   ]
  },
  {
   "cell_type": "markdown",
   "id": "c8215815",
   "metadata": {},
   "source": [
    "## User Labels"
   ]
  },
  {
   "cell_type": "code",
   "execution_count": 1,
   "id": "7223386c",
   "metadata": {},
   "outputs": [],
   "source": [
    "import pandas as pd\n",
    "\n",
    "df_users = pd.read_csv('../data/labels/user_labels.csv')\n",
    "df_kaggle = pd.read_csv('../data/labels/users_labels_kaggle.csv')"
   ]
  },
  {
   "cell_type": "code",
   "execution_count": 6,
   "id": "25d395e8",
   "metadata": {},
   "outputs": [
    {
     "data": {
      "text/plain": [
       "array(['AAB0162', 'AAB0398', 'AAC0610', ..., 'ZWS3625', 'ZXM3086',\n",
       "       'ZZO2997'], shape=(4000,), dtype=object)"
      ]
     },
     "execution_count": 6,
     "metadata": {},
     "output_type": "execute_result"
    }
   ],
   "source": [
    "df_users['user_id'].unique()"
   ]
  },
  {
   "cell_type": "code",
   "execution_count": 8,
   "id": "b8805fda",
   "metadata": {},
   "outputs": [
    {
     "name": "stdout",
     "output_type": "stream",
     "text": [
      "End_date untuk MBG3183 di dataframe 1: 2010-10-12 13:22:56\n",
      "End_date untuk MBG3183 di dataframe 2: 2011-06-01\n"
     ]
    }
   ],
   "source": [
    "user_id_check = 'MBG3183'\n",
    "\n",
    "if user_id_check in df_users['user_id'].values:\n",
    "    end_date_df1 = df_users[df_users['user_id'] == user_id_check]['end_date'].iloc[0]\n",
    "    print(f\"End_date untuk {user_id_check} di dataframe 1: {end_date_df1}\")\n",
    "else:\n",
    "    print(f\"{user_id_check} tidak ditemukan di dataframe 1\")\n",
    "\n",
    "if user_id_check in df_kaggle['user_id'].values:\n",
    "    end_date_df2 = df_kaggle[df_kaggle['user_id'] == user_id_check]['end_date'].iloc[0]\n",
    "    print(f\"End_date untuk {user_id_check} di dataframe 2: {end_date_df2}\")\n",
    "else:\n",
    "    print(f\"{user_id_check} tidak ditemukan di dataframe 2\")"
   ]
  },
  {
   "cell_type": "markdown",
   "id": "8a267088",
   "metadata": {},
   "source": [
    "## EDA details"
   ]
  },
  {
   "cell_type": "code",
   "execution_count": 83,
   "id": "2896f6e0",
   "metadata": {},
   "outputs": [
    {
     "data": {
      "text/html": [
       "<div>\n",
       "<style scoped>\n",
       "    .dataframe tbody tr th:only-of-type {\n",
       "        vertical-align: middle;\n",
       "    }\n",
       "\n",
       "    .dataframe tbody tr th {\n",
       "        vertical-align: top;\n",
       "    }\n",
       "\n",
       "    .dataframe thead th {\n",
       "        text-align: right;\n",
       "    }\n",
       "</style>\n",
       "<table border=\"1\" class=\"dataframe\">\n",
       "  <thead>\n",
       "    <tr style=\"text-align: right;\">\n",
       "      <th></th>\n",
       "      <th>timestamp</th>\n",
       "      <th>user_id</th>\n",
       "      <th>pc_id</th>\n",
       "      <th>resource_path</th>\n",
       "      <th>activity</th>\n",
       "      <th>labels</th>\n",
       "    </tr>\n",
       "  </thead>\n",
       "  <tbody>\n",
       "    <tr>\n",
       "      <th>0</th>\n",
       "      <td>2010-10-12 13:21:59</td>\n",
       "      <td>MBG3183</td>\n",
       "      <td>PC-3906</td>\n",
       "      <td>https://www.dropbox.com/home/Qebcobk2039005820...</td>\n",
       "      <td>WWW Upload</td>\n",
       "      <td>jobsearch</td>\n",
       "    </tr>\n",
       "    <tr>\n",
       "      <th>1</th>\n",
       "      <td>2010-10-12 13:22:04</td>\n",
       "      <td>MBG3183</td>\n",
       "      <td>PC-3906</td>\n",
       "      <td>https://www.dropbox.com/home/Qebcobk2039005820...</td>\n",
       "      <td>WWW Upload</td>\n",
       "      <td>jobsearch</td>\n",
       "    </tr>\n",
       "    <tr>\n",
       "      <th>2</th>\n",
       "      <td>2010-10-12 13:22:27</td>\n",
       "      <td>MBG3183</td>\n",
       "      <td>PC-3906</td>\n",
       "      <td>https://www.dropbox.com/home/Qebcobk2039005820...</td>\n",
       "      <td>WWW Upload</td>\n",
       "      <td>jobsearch</td>\n",
       "    </tr>\n",
       "    <tr>\n",
       "      <th>3</th>\n",
       "      <td>2010-10-12 13:22:56</td>\n",
       "      <td>MBG3183</td>\n",
       "      <td>PC-3906</td>\n",
       "      <td>https://www.dropbox.com/home/Qebcobk2039005820...</td>\n",
       "      <td>WWW Upload</td>\n",
       "      <td>jobsearch</td>\n",
       "    </tr>\n",
       "    <tr>\n",
       "      <th>4</th>\n",
       "      <td>2011-02-02 09:08:00</td>\n",
       "      <td>CMP2946</td>\n",
       "      <td>PC-9447</td>\n",
       "      <td>http://linkedin.com/PybfvatCebwrpgwbofrnepu147...</td>\n",
       "      <td>WWW Visit</td>\n",
       "      <td>Closing Project,jobsearch</td>\n",
       "    </tr>\n",
       "  </tbody>\n",
       "</table>\n",
       "</div>"
      ],
      "text/plain": [
       "             timestamp  user_id    pc_id  \\\n",
       "0  2010-10-12 13:21:59  MBG3183  PC-3906   \n",
       "1  2010-10-12 13:22:04  MBG3183  PC-3906   \n",
       "2  2010-10-12 13:22:27  MBG3183  PC-3906   \n",
       "3  2010-10-12 13:22:56  MBG3183  PC-3906   \n",
       "4  2011-02-02 09:08:00  CMP2946  PC-9447   \n",
       "\n",
       "                                       resource_path    activity  \\\n",
       "0  https://www.dropbox.com/home/Qebcobk2039005820...  WWW Upload   \n",
       "1  https://www.dropbox.com/home/Qebcobk2039005820...  WWW Upload   \n",
       "2  https://www.dropbox.com/home/Qebcobk2039005820...  WWW Upload   \n",
       "3  https://www.dropbox.com/home/Qebcobk2039005820...  WWW Upload   \n",
       "4  http://linkedin.com/PybfvatCebwrpgwbofrnepu147...   WWW Visit   \n",
       "\n",
       "                      labels  \n",
       "0                  jobsearch  \n",
       "1                  jobsearch  \n",
       "2                  jobsearch  \n",
       "3                  jobsearch  \n",
       "4  Closing Project,jobsearch  "
      ]
     },
     "execution_count": 83,
     "metadata": {},
     "output_type": "execute_result"
    }
   ],
   "source": [
    "import pandas as pd\n",
    "import matplotlib.pyplot as plt\n",
    "import seaborn as sns\n",
    "\n",
    "df = pd.read_csv('../data/labels/details.csv')\n",
    "\n",
    "df.head()"
   ]
  },
  {
   "cell_type": "code",
   "execution_count": 85,
   "id": "6e1c02ca",
   "metadata": {},
   "outputs": [],
   "source": [
    "df['timestamp'] = pd.to_datetime(df['timestamp'])"
   ]
  },
  {
   "cell_type": "code",
   "execution_count": 86,
   "id": "8743ab0a",
   "metadata": {},
   "outputs": [
    {
     "data": {
      "text/html": [
       "<div>\n",
       "<style scoped>\n",
       "    .dataframe tbody tr th:only-of-type {\n",
       "        vertical-align: middle;\n",
       "    }\n",
       "\n",
       "    .dataframe tbody tr th {\n",
       "        vertical-align: top;\n",
       "    }\n",
       "\n",
       "    .dataframe thead th {\n",
       "        text-align: right;\n",
       "    }\n",
       "</style>\n",
       "<table border=\"1\" class=\"dataframe\">\n",
       "  <thead>\n",
       "    <tr style=\"text-align: right;\">\n",
       "      <th></th>\n",
       "      <th>timestamp</th>\n",
       "      <th>user_id</th>\n",
       "      <th>pc_id</th>\n",
       "      <th>resource_path</th>\n",
       "      <th>activity</th>\n",
       "      <th>labels</th>\n",
       "    </tr>\n",
       "  </thead>\n",
       "  <tbody>\n",
       "    <tr>\n",
       "      <th>0</th>\n",
       "      <td>2010-10-12 13:21:59</td>\n",
       "      <td>MBG3183</td>\n",
       "      <td>PC-3906</td>\n",
       "      <td>https://www.dropbox.com/home/Qebcobk2039005820...</td>\n",
       "      <td>WWW Upload</td>\n",
       "      <td>jobsearch</td>\n",
       "    </tr>\n",
       "    <tr>\n",
       "      <th>1</th>\n",
       "      <td>2010-10-12 13:22:04</td>\n",
       "      <td>MBG3183</td>\n",
       "      <td>PC-3906</td>\n",
       "      <td>https://www.dropbox.com/home/Qebcobk2039005820...</td>\n",
       "      <td>WWW Upload</td>\n",
       "      <td>jobsearch</td>\n",
       "    </tr>\n",
       "    <tr>\n",
       "      <th>2</th>\n",
       "      <td>2010-10-12 13:22:27</td>\n",
       "      <td>MBG3183</td>\n",
       "      <td>PC-3906</td>\n",
       "      <td>https://www.dropbox.com/home/Qebcobk2039005820...</td>\n",
       "      <td>WWW Upload</td>\n",
       "      <td>jobsearch</td>\n",
       "    </tr>\n",
       "    <tr>\n",
       "      <th>3</th>\n",
       "      <td>2010-10-12 13:22:56</td>\n",
       "      <td>MBG3183</td>\n",
       "      <td>PC-3906</td>\n",
       "      <td>https://www.dropbox.com/home/Qebcobk2039005820...</td>\n",
       "      <td>WWW Upload</td>\n",
       "      <td>jobsearch</td>\n",
       "    </tr>\n",
       "    <tr>\n",
       "      <th>4</th>\n",
       "      <td>2011-02-02 09:08:00</td>\n",
       "      <td>CMP2946</td>\n",
       "      <td>PC-9447</td>\n",
       "      <td>http://linkedin.com/PybfvatCebwrpgwbofrnepu147...</td>\n",
       "      <td>WWW Visit</td>\n",
       "      <td>Closing Project,jobsearch</td>\n",
       "    </tr>\n",
       "  </tbody>\n",
       "</table>\n",
       "</div>"
      ],
      "text/plain": [
       "            timestamp  user_id    pc_id  \\\n",
       "0 2010-10-12 13:21:59  MBG3183  PC-3906   \n",
       "1 2010-10-12 13:22:04  MBG3183  PC-3906   \n",
       "2 2010-10-12 13:22:27  MBG3183  PC-3906   \n",
       "3 2010-10-12 13:22:56  MBG3183  PC-3906   \n",
       "4 2011-02-02 09:08:00  CMP2946  PC-9447   \n",
       "\n",
       "                                       resource_path    activity  \\\n",
       "0  https://www.dropbox.com/home/Qebcobk2039005820...  WWW Upload   \n",
       "1  https://www.dropbox.com/home/Qebcobk2039005820...  WWW Upload   \n",
       "2  https://www.dropbox.com/home/Qebcobk2039005820...  WWW Upload   \n",
       "3  https://www.dropbox.com/home/Qebcobk2039005820...  WWW Upload   \n",
       "4  http://linkedin.com/PybfvatCebwrpgwbofrnepu147...   WWW Visit   \n",
       "\n",
       "                      labels  \n",
       "0                  jobsearch  \n",
       "1                  jobsearch  \n",
       "2                  jobsearch  \n",
       "3                  jobsearch  \n",
       "4  Closing Project,jobsearch  "
      ]
     },
     "execution_count": 86,
     "metadata": {},
     "output_type": "execute_result"
    }
   ],
   "source": [
    "df_sorted = df.sort_values('timestamp').reset_index(drop=True)\n",
    "\n",
    "df_sorted.head()"
   ]
  },
  {
   "cell_type": "code",
   "execution_count": 87,
   "id": "9c351e33",
   "metadata": {},
   "outputs": [],
   "source": [
    "# Buat kolom tanggal\n",
    "df['date'] = df['timestamp'].dt.date\n",
    "\n",
    "# Hitung aktivitas per hari\n",
    "daily_activity = df.groupby('date').size()"
   ]
  },
  {
   "cell_type": "code",
   "execution_count": 88,
   "id": "9317446c",
   "metadata": {},
   "outputs": [
    {
     "data": {
      "image/png": "[encoded data removed]",
      "text/plain": [
       "<Figure size 1500x600 with 1 Axes>"
      ]
     },
     "metadata": {},
     "output_type": "display_data"
    },
    {
     "name": "stdout",
     "output_type": "stream",
     "text": [
      "Total aktivitas: 233\n",
      "Periode: 2010-10-12 13:21:59 - 2011-03-30 16:27:27\n"
     ]
    }
   ],
   "source": [
    "# Buat dataframe untuk plotting\n",
    "daily_df = daily_activity.reset_index()\n",
    "daily_df.columns = ['date', 'count']\n",
    "\n",
    "# Buat plot dengan seaborn\n",
    "plt.figure(figsize=(15, 6))\n",
    "sns.barplot(data=daily_df, x='date', y='count')\n",
    "plt.title('Aktivitas User Malicious Per Tanggal', fontsize=14)\n",
    "plt.xlabel('Tanggal')\n",
    "plt.ylabel('Jumlah Aktivitas')\n",
    "plt.xticks(rotation=45)\n",
    "plt.tight_layout()\n",
    "plt.show()\n",
    "\n",
    "print(f\"Total aktivitas: {len(df)}\")\n",
    "print(f\"Periode: {df['timestamp'].min()} - {df['timestamp'].max()}\")"
   ]
  },
  {
   "cell_type": "code",
   "execution_count": 67,
   "id": "6f077b39",
   "metadata": {},
   "outputs": [],
   "source": [
    "df_sorted.to_csv('../data/labels/details.csv', index=False)"
   ]
  }
 ],
 "metadata": {
  "kernelspec": {
   "display_name": "env",
   "language": "python",
   "name": "python3"
  },
  "language_info": {
   "codemirror_mode": {
    "name": "ipython",
    "version": 3
   },
   "file_extension": ".py",
   "mimetype": "text/x-python",
   "name": "python",
   "nbconvert_exporter": "python",
   "pygments_lexer": "ipython3",
   "version": "3.12.3"
  }
 },
 "nbformat": 4,
 "nbformat_minor": 5
}
